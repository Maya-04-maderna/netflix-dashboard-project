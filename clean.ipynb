{
 "cells": [
  {
   "cell_type": "code",
   "execution_count": 1,
   "id": "f1340168",
   "metadata": {},
   "outputs": [],
   "source": [
    "import pandas as pd\n",
    "\n",
    "# Load the uploaded Netflix dataset\n",
    "file_path = \"netflix1.csv\"\n",
    "df = pd.read_csv(file_path)\n"
   ]
  },
  {
   "cell_type": "code",
   "execution_count": 3,
   "id": "e82f0923",
   "metadata": {},
   "outputs": [
    {
     "data": {
      "text/plain": [
       "'netflix_cleaned.csv'"
      ]
     },
     "execution_count": 3,
     "metadata": {},
     "output_type": "execute_result"
    }
   ],
   "source": [
    "# Clean and transform the Netflix dataset\n",
    "\n",
    "# 1. Convert 'date_added' to datetime\n",
    "df['date_added'] = pd.to_datetime(df['date_added'], errors='coerce')\n",
    "\n",
    "# 2. Create separate columns for 'duration' depending on whether it's a Movie or TV Show\n",
    "df['duration_minutes'] = df['duration'].str.extract(r'(\\d+)\\s*min', expand=False).astype('float')\n",
    "df['duration_seasons'] = df['duration'].str.extract(r'(\\d+)\\s*Season', expand=False).astype('float')\n",
    "\n",
    "# 3. Split 'listed_in' into lists of genres\n",
    "df['genre_list'] = df['listed_in'].str.split(',')\n",
    "\n",
    "# Strip whitespace from each genre in the list\n",
    "df['genre_list'] = df['genre_list'].apply(lambda x: [i.strip() for i in x])\n",
    "\n",
    "# Show a preview of the cleaned dataset\n",
    "df[['type', 'title', 'date_added', 'duration', 'duration_minutes', 'duration_seasons', 'genre_list']].head()\n",
    "# Save the cleaned dataset to a new CSV file\n",
    "cleaned_file_path = \"netflix_cleaned.csv\"\n",
    "df.to_csv(cleaned_file_path, index=False)\n",
    "\n",
    "cleaned_file_path\n"
   ]
  }
 ],
 "metadata": {
  "kernelspec": {
   "display_name": "Python 3",
   "language": "python",
   "name": "python3"
  },
  "language_info": {
   "codemirror_mode": {
    "name": "ipython",
    "version": 3
   },
   "file_extension": ".py",
   "mimetype": "text/x-python",
   "name": "python",
   "nbconvert_exporter": "python",
   "pygments_lexer": "ipython3",
   "version": "3.13.2"
  }
 },
 "nbformat": 4,
 "nbformat_minor": 5
}
